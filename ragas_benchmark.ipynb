{
 "cells": [
  {
   "cell_type": "markdown",
   "metadata": {},
   "source": [
    "# My Evaluation Approach\n"
   ]
  },
  {
   "cell_type": "markdown",
   "metadata": {},
   "source": [
    "![](assets/ragas.png)\n"
   ]
  },
  {
   "cell_type": "markdown",
   "metadata": {},
   "source": [
    "## Setup\n"
   ]
  },
  {
   "cell_type": "code",
   "execution_count": 1,
   "metadata": {},
   "outputs": [],
   "source": [
    "%load_ext autoreload\n",
    "%autoreload 2"
   ]
  },
  {
   "cell_type": "code",
   "execution_count": 2,
   "metadata": {},
   "outputs": [],
   "source": [
    "import json\n",
    "import time\n",
    "import os\n",
    "from typing import List, Dict, TypedDict\n",
    "from pathlib import Path\n",
    "from tqdm import tqdm\n",
    "import pandas as pd\n",
    "import nest_asyncio\n",
    "from dotenv import load_dotenv\n",
    "\n",
    "import openai\n",
    "from langchain_community.document_loaders import TextLoader\n",
    "from langchain_core.documents import Document\n",
    "from langchain_community.vectorstores import FAISS\n",
    "from langchain_openai import OpenAIEmbeddings\n",
    "from langchain_core.vectorstores import VectorStore\n",
    "from langchain_openai import ChatOpenAI\n",
    "from langchain.prompts import PromptTemplate\n",
    "from langchain_core.messages import HumanMessage, SystemMessage\n",
    "from langchain_openai import ChatOpenAI\n",
    "from langchain import hub\n",
    "from langchain_core.runnables import RunnablePassthrough\n",
    "from langchain.schema import StrOutputParser"
   ]
  },
  {
   "cell_type": "code",
   "execution_count": 3,
   "metadata": {},
   "outputs": [],
   "source": [
    "loaded = load_dotenv()\n",
    "\n",
    "data_dir = \"ragas/\"\n",
    "os.environ['CHUNKING_BENCHMARK'] = data_dir"
   ]
  },
  {
   "cell_type": "markdown",
   "metadata": {},
   "source": [
    "# 1. Load and Save Documents\n"
   ]
  },
  {
   "cell_type": "markdown",
   "metadata": {},
   "source": [
    "Each document is loaded as one Langchain document possibly to small to fit into a LLM. Therefore, we need to split these documents into smaller pieces of text for further processing."
   ]
  },
  {
   "cell_type": "code",
   "execution_count": null,
   "metadata": {},
   "outputs": [],
   "source": [
    "from utils.loader import save_documents\n",
    "\n",
    "documents: List[Document] = []\n",
    "for file in os.listdir(data_dir+\"documents\"):\n",
    "    file_path = os.path.join(data_dir+\"documents\", file)\n",
    "    loader = TextLoader(file_path)\n",
    "    documents.extend(loader.load())\n",
    "\n",
    "save_documents(documents, data_dir)"
   ]
  },
  {
   "cell_type": "code",
   "execution_count": null,
   "metadata": {},
   "outputs": [],
   "source": [
    "from utils.loader import load_documents\n",
    "documents = load_documents(data_dir)"
   ]
  },
  {
   "cell_type": "markdown",
   "metadata": {},
   "source": [
    "# 2. Apply chunking\n"
   ]
  },
  {
   "cell_type": "code",
   "execution_count": null,
   "metadata": {},
   "outputs": [],
   "source": [
    "%run -i chunking_strategies.ipynb"
   ]
  },
  {
   "cell_type": "code",
   "execution_count": 4,
   "metadata": {},
   "outputs": [],
   "source": [
    "from utils.loader import load_chunks\n",
    "split_chunks: Dict[str, Document] = load_chunks(data_dir)"
   ]
  },
  {
   "cell_type": "markdown",
   "metadata": {},
   "source": [
    "# 3. Ingest into vector store\n",
    "\n",
    "Using FAISS\n"
   ]
  },
  {
   "cell_type": "code",
   "execution_count": 5,
   "metadata": {},
   "outputs": [
    {
     "name": "stdout",
     "output_type": "stream",
     "text": [
      "Loading markdown-header-recursive-512-0\n",
      "Loading fixed-size-2048-0\n",
      "Loading markdown-header-recursive-1024-0\n",
      "Loading markdown-header-recursive-2048-200\n",
      "Loading recursive-1024-200\n",
      "Loading fixed-size-512-0\n",
      "Loading fixed-size-1024-0\n",
      "Loading markdown-header-recursive-1024-200\n",
      "Loading markdown-header-recursive-2048-0\n",
      "Loading fixed-size-1024-200\n",
      "Loading markdown-header\n",
      "Loading recursive-2048-0\n",
      "Loading fixed-size-2048-200\n",
      "Loading recursive-512-200\n",
      "Loading recursive-2048-200\n",
      "Loading recursive-1024-0\n",
      "Loading fixed-size-512-200\n",
      "Loading semantic-chunks-95-recursive-2048-200\n",
      "Loading semantic-chunks-90\n",
      "Loading semantic-chunks-95\n",
      "Loading recursive-512-0\n",
      "Loading markdown-header-recursive-512-200\n"
     ]
    }
   ],
   "source": [
    "from langchain_huggingface import HuggingFaceEmbeddings\n",
    "\n",
    "vector_stores: Dict[str, VectorStore] = {}\n",
    "\n",
    "embeddings = HuggingFaceEmbeddings(\n",
    "    model_name=\"Snowflake/snowflake-arctic-embed-l\",\n",
    "    model_kwargs={\"device\": 0, 'trust_remote_code': True},  # Comment out to use CPU\n",
    ")\n",
    "\n",
    "# embeddings = OpenAIEmbeddings(model=\"text-embedding-3-small\")\n",
    "\n",
    "vector_store_dir = f\"{data_dir}vector_stores/{embeddings.model_name.replace('/', '-')}\"\n",
    "Path(vector_store_dir).mkdir(parents=True, exist_ok=True)\n",
    "for experiment_name, chunks in split_chunks.items():\n",
    "    if os.path.exists(f\"{vector_store_dir}/{experiment_name}\"):\n",
    "        print(\"Loading\", experiment_name)\n",
    "        vector_stores[experiment_name] = FAISS.load_local(f\"{vector_store_dir}/{experiment_name}\", embeddings, allow_dangerous_deserialization=True)\n",
    "    else:\n",
    "        print(\"Indexing\", experiment_name)\n",
    "        vector_stores[experiment_name] = FAISS.from_documents(chunks, embeddings)\n",
    "        vector_stores[experiment_name].save_local(f\"{vector_store_dir}/{experiment_name}\")"
   ]
  },
  {
   "cell_type": "markdown",
   "metadata": {},
   "source": [
    "# 5. Evaluation\n"
   ]
  },
  {
   "cell_type": "markdown",
   "metadata": {},
   "source": [
    "## Create Golden Datasets"
   ]
  },
  {
   "cell_type": "markdown",
   "metadata": {},
   "source": [
    "Create golden dataset on subset of documents, to have some irrelevant documents left for some noise"
   ]
  },
  {
   "cell_type": "code",
   "execution_count": null,
   "metadata": {},
   "outputs": [],
   "source": [
    "documents_subset_sources = [data_dir+\"documents/sleep.md\", data_dir+\"documents/teeth.md\", data_dir+\"documents/time_management.md\", data_dir+\"documents/mentoring.md\"]"
   ]
  },
  {
   "cell_type": "markdown",
   "metadata": {},
   "source": [
    "### Question Generation with RAGAS\n"
   ]
  },
  {
   "cell_type": "markdown",
   "metadata": {},
   "source": [
    "Generate synthetic Questions across Documents to challenge chunking strategies on multi-context queries\n"
   ]
  },
  {
   "cell_type": "code",
   "execution_count": 6,
   "metadata": {},
   "outputs": [],
   "source": [
    "from os import environ\n",
    "\n",
    "environ[\"RAGAS_DO_NOT_TRACK\"] = \"true\""
   ]
  },
  {
   "cell_type": "code",
   "execution_count": null,
   "metadata": {},
   "outputs": [],
   "source": [
    "from ragas.testset.generator import TestsetGenerator\n",
    "from ragas.testset.evolutions import simple, reasoning, multi_context\n",
    "\n",
    "nest_asyncio.apply()\n",
    "\n",
    "generator_llm = ChatOpenAI(model=\"gpt-4o-mini\", temperature=0)\n",
    "critic_llm = ChatOpenAI(model=\"gpt-4o-mini\", temperature=0)\n",
    "embeddings = OpenAIEmbeddings(model=\"text-embedding-3-small\")\n",
    "\n",
    "generator = TestsetGenerator.from_langchain(generator_llm, critic_llm, embeddings)\n",
    "\n",
    "for experiment_name, chunks in split_chunks.items():\n",
    "    print(\"Generating\", experiment_name)\n",
    "    ragas_testset = generator.generate_with_langchain_docs(\n",
    "        # [chunk for chunk in chunks if chunk.metadata[\"source\"] in documents_subset_sources],\n",
    "        chunks,\n",
    "        test_size=10,\n",
    "        distributions={simple: 0.2, reasoning: 0.3, multi_context: 0.5},\n",
    "    )\n",
    "    df = ragas_testset.to_pandas()\n",
    "    df.to_csv(data_dir+f\"testsets/{experiment_name}.csv\", index=False)"
   ]
  },
  {
   "cell_type": "markdown",
   "metadata": {},
   "source": [
    "## Evaluate Retrieval"
   ]
  },
  {
   "cell_type": "markdown",
   "metadata": {},
   "source": [
    "Load Evaluation Dataset\n"
   ]
  },
  {
   "cell_type": "code",
   "execution_count": 7,
   "metadata": {},
   "outputs": [
    {
     "name": "stderr",
     "output_type": "stream",
     "text": [
      "100%|██████████| 8/8 [00:01<00:00,  5.16it/s]"
     ]
    },
    {
     "name": "stdout",
     "output_type": "stream",
     "text": [
      "Running evaluation for markdown-header-recursive-512-0\n"
     ]
    },
    {
     "name": "stderr",
     "output_type": "stream",
     "text": [
      "\n"
     ]
    },
    {
     "data": {
      "application/vnd.jupyter.widget-view+json": {
       "model_id": "6d4a8728716e46dda149a114dea167e6",
       "version_major": 2,
       "version_minor": 0
      },
      "text/plain": [
       "Evaluating:   0%|          | 0/16 [00:00<?, ?it/s]"
      ]
     },
     "metadata": {},
     "output_type": "display_data"
    },
    {
     "name": "stderr",
     "output_type": "stream",
     "text": [
      "100%|██████████| 10/10 [00:00<00:00, 20.34it/s]"
     ]
    },
    {
     "name": "stdout",
     "output_type": "stream",
     "text": [
      "Running evaluation for fixed-size-2048-0\n"
     ]
    },
    {
     "name": "stderr",
     "output_type": "stream",
     "text": [
      "\n"
     ]
    },
    {
     "data": {
      "application/vnd.jupyter.widget-view+json": {
       "model_id": "b95fb90ec58e49039fdfd96c4dd26021",
       "version_major": 2,
       "version_minor": 0
      },
      "text/plain": [
       "Evaluating:   0%|          | 0/20 [00:00<?, ?it/s]"
      ]
     },
     "metadata": {},
     "output_type": "display_data"
    }
   ],
   "source": [
    "from ragas.metrics import context_precision, context_recall\n",
    "from ragas import evaluate\n",
    "from datasets import Dataset\n",
    "\n",
    "\n",
    "# Allow nested use of asyncio (used by Ragas)\n",
    "nest_asyncio.apply()\n",
    "\n",
    "llm = ChatOpenAI(model=\"gpt-4o-mini\", temperature=0)\n",
    "\n",
    "for experiment_name, vector_store in vector_stores.items():\n",
    "    ragas_testset = pd.read_csv(data_dir+f\"testsets/{experiment_name}.csv\")\n",
    "    questions = ragas_testset[\"question\"].tolist()\n",
    "    ground_truths = ragas_testset[\"ground_truth\"].tolist()\n",
    "    eval_data = {\n",
    "        \"question\": questions,\n",
    "        \"ground_truth\": ground_truths,\n",
    "        \"contexts\": [],\n",
    "    }\n",
    "    K = 10 \n",
    "    retriever = vector_store.as_retriever(search_kwargs={\"k\": K})\n",
    "    for question in tqdm(questions):\n",
    "            # K = len(ground_truth)\n",
    "            # retriever = vector_stores[experiment_name].as_retriever(search_kwargs={\"k\": K})\n",
    "            retrieved_chunks = retriever.invoke(question)\n",
    "            eval_data[\"contexts\"].append([chunk.page_content for chunk in retrieved_chunks])\n",
    "     \n",
    "    # RAGAS expects a Dataset object\n",
    "    dataset = Dataset.from_dict(eval_data)\n",
    "\n",
    "    retries = 8\n",
    "    for i in range(retries):\n",
    "        try:\n",
    "            print(f\"Running evaluation for {experiment_name}\")\n",
    "            result = evaluate(\n",
    "                dataset=dataset,\n",
    "                metrics=[context_precision, context_recall],\n",
    "                raise_exceptions=True,\n",
    "                embeddings=embeddings,\n",
    "                llm=llm,\n",
    "            )\n",
    "            result.to_pandas().to_csv(data_dir+f\"results/{experiment_name}.csv\", index=False)\n",
    "            break\n",
    "        except Exception as e:\n",
    "            if i == retries - 1:\n",
    "                raise e\n",
    "            wait_time = 2**i\n",
    "            print(f\"Error, waiting {wait_time} seconds\")\n",
    "            time.sleep(wait_time)\n",
    "\n",
    "\n",
    "    "
   ]
  },
  {
   "cell_type": "code",
   "execution_count": 9,
   "metadata": {},
   "outputs": [
    {
     "name": "stdout",
     "output_type": "stream",
     "text": [
      "MAP for markdown-header-recursive-512-0: 0.3295138888743634\n",
      "MAP for fixed-size-2048-0: 0.6115039682362264\n",
      "MAP for markdown-header-recursive-1024-0: 0.5172486772339645\n",
      "MAP for markdown-header-recursive-2048-200: 0.6374603174436049\n",
      "MAP for recursive-1024-200: 0.6200651927260762\n",
      "MAP for fixed-size-512-0: 0.7209920634745784\n",
      "MAP for fixed-size-1024-0: 0.8884501763530135\n",
      "MAP for markdown-header-recursive-1024-200: 0.5722163170627643\n",
      "MAP for markdown-header-recursive-2048-0: 0.49289021162476027\n",
      "MAP for fixed-size-1024-200: 0.5841187956600791\n",
      "MAP for markdown-header: 0.8235317460111551\n",
      "MAP for recursive-2048-0: 0.8150881834044512\n",
      "MAP for fixed-size-2048-200: nan\n",
      "MAP for recursive-512-200: nan\n",
      "MAP for recursive-2048-200: nan\n",
      "MAP for recursive-1024-0: nan\n",
      "MAP for fixed-size-512-200: nan\n",
      "MAP for semantic-chunks-95-recursive-2048-200: nan\n",
      "MAP for semantic-chunks-90: nan\n",
      "MAP for semantic-chunks-95: nan\n",
      "MAP for recursive-512-0: nan\n",
      "MAP for markdown-header-recursive-512-200: nan\n"
     ]
    }
   ],
   "source": [
    "for experiment_name in vector_stores.keys():\n",
    "    result = pd.read_csv(data_dir+f\"results/{experiment_name}.csv\")\n",
    "    map = result[\"context_precision\"].mean()\n",
    "    print(f\"MAP for {experiment_name}: {map}\")"
   ]
  }
 ],
 "metadata": {
  "kernelspec": {
   "display_name": "venv",
   "language": "python",
   "name": "python3"
  },
  "language_info": {
   "codemirror_mode": {
    "name": "ipython",
    "version": 3
   },
   "file_extension": ".py",
   "mimetype": "text/x-python",
   "name": "python",
   "nbconvert_exporter": "python",
   "pygments_lexer": "ipython3",
   "version": "3.10.12"
  },
  "orig_nbformat": 4
 },
 "nbformat": 4,
 "nbformat_minor": 2
}
