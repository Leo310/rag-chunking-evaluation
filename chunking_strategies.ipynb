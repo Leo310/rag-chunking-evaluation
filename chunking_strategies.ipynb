{
 "cells": [
  {
   "cell_type": "markdown",
   "metadata": {},
   "source": [
    "# Chunking Strategies\n",
    "\n",
    "aka Document Transformers, aka Text Splitters\n",
    "\n",
    "Inspired by [5 Levels of Text Splitting](https://github.com/FullStackRetrieval-com/RetrievalTutorials/blob/main/tutorials/LevelsOfTextSplitting/5_Levels_Of_Text_Splitting.ipynb)"
   ]
  },
  {
   "cell_type": "code",
   "execution_count": 1,
   "metadata": {},
   "outputs": [],
   "source": [
    "import os\n",
    "from langchain_core.documents import Document\n",
    "from dotenv import load_dotenv\n",
    "\n",
    "from utils.loader import load_documents\n",
    "\n",
    "loaded = load_dotenv()\n",
    "data_dir = os.getenv('CHUNKING_BENCHMARK') or 'my_benchmark/'\n",
    "\n",
    "documents = load_documents(data_dir)\n"
   ]
  },
  {
   "cell_type": "code",
   "execution_count": 2,
   "metadata": {},
   "outputs": [],
   "source": [
    "from typing import Dict\n",
    "\n",
    "split_chunks: Dict[str, Document] = {}"
   ]
  },
  {
   "cell_type": "markdown",
   "metadata": {},
   "source": [
    "## For Unstructured Text"
   ]
  },
  {
   "cell_type": "markdown",
   "metadata": {},
   "source": [
    "### Fixed-size chunking\n"
   ]
  },
  {
   "cell_type": "code",
   "execution_count": null,
   "metadata": {},
   "outputs": [],
   "source": [
    "from langchain_text_splitters import CharacterTextSplitter\n",
    "\n",
    "CHUNK_SIZE = 1000\n",
    "CHUNK_OVERLAP = 0\n",
    "EXPERIMENT_NAME = \"fixed-size-\" + str(CHUNK_SIZE) + \"-\" + str(CHUNK_OVERLAP)\n",
    "\n",
    "splitter = CharacterTextSplitter(\n",
    "    separator=\"\",\n",
    "    chunk_size=CHUNK_SIZE,\n",
    "    chunk_overlap=CHUNK_OVERLAP,\n",
    "    length_function=len,\n",
    ")\n",
    "\n",
    "split_chunks[EXPERIMENT_NAME] = splitter.split_documents(documents)\n",
    "\n",
    "for i, chunk in enumerate(split_chunks[EXPERIMENT_NAME]):\n",
    "    chunk.metadata[\"id\"] = i\n"
   ]
  },
  {
   "cell_type": "markdown",
   "metadata": {},
   "source": [
    "### RecursiveTextCharacterSplitting\n"
   ]
  },
  {
   "cell_type": "code",
   "execution_count": null,
   "metadata": {},
   "outputs": [],
   "source": [
    "from langchain_text_splitters import RecursiveCharacterTextSplitter\n",
    "\n",
    "CHUNK_SIZE = 1000\n",
    "CHUNK_OVERLAP = 0\n",
    "EXPERIMENT_NAME = \"recursive-\" + str(CHUNK_SIZE) + \"-\" + str(CHUNK_OVERLAP)\n",
    "\n",
    "splitter = RecursiveCharacterTextSplitter(\n",
    "    chunk_size=CHUNK_SIZE,\n",
    "    chunk_overlap=CHUNK_OVERLAP,\n",
    "    length_function=len,\n",
    ")\n",
    "\n",
    "split_chunks[EXPERIMENT_NAME] = splitter.split_documents(documents)\n",
    "\n",
    "for i, chunk in enumerate(split_chunks[EXPERIMENT_NAME]):\n",
    "    chunk.metadata[\"id\"] = i"
   ]
  },
  {
   "cell_type": "markdown",
   "metadata": {},
   "source": [
    "### Semantic Chunking\n"
   ]
  },
  {
   "cell_type": "code",
   "execution_count": 3,
   "metadata": {},
   "outputs": [],
   "source": [
    "from langchain_experimental.text_splitter import SemanticChunker\n",
    "from langchain_openai import OpenAIEmbeddings\n",
    "\n",
    "EXPERIMENT_NAME = \"semantic-chunks\"\n",
    "\n",
    "embeddings = OpenAIEmbeddings(model=\"text-embedding-3-small\")\n",
    "\n",
    "splitter = SemanticChunker(embeddings, add_start_index=True)\n",
    "split_chunks[EXPERIMENT_NAME] = splitter.split_documents(documents)\n",
    "\n",
    "for i, chunk in enumerate(split_chunks[EXPERIMENT_NAME]):\n",
    "    chunk.metadata[\"id\"] = i"
   ]
  },
  {
   "cell_type": "markdown",
   "metadata": {},
   "source": [
    "### Dense X: Propositional Chunking\n"
   ]
  },
  {
   "cell_type": "markdown",
   "metadata": {},
   "source": [
    "## For Document Specific Splitting "
   ]
  },
  {
   "cell_type": "markdown",
   "metadata": {},
   "source": [
    "### Markdown"
   ]
  },
  {
   "cell_type": "code",
   "execution_count": null,
   "metadata": {},
   "outputs": [],
   "source": [
    "%%script echo skipping\n",
    "CHUNK_SIZE = 1000\n",
    "CHUNK_OVERLAP = 0\n",
    "EXPERIMENT_NAME = \"markdown\" + str(CHUNK_SIZE) + \"-\" + str(CHUNK_OVERLAP)\n",
    "\n",
    "seperators = [\n",
    "    # First, try to split along Markdown headings (starting with level 2)\n",
    "    \"\\n#{1,6} \",\n",
    "    # Note the alternative syntax for headings (below) is not handled here\n",
    "    # Heading level 2\n",
    "    # ---------------\n",
    "    # End of code block\n",
    "    \"```\\n\",\n",
    "    # Horizontal lines\n",
    "    \"\\n\\\\*\\\\*\\\\*+\\n\",\n",
    "    \"\\n---+\\n\",\n",
    "    \"\\n___+\\n\",\n",
    "    # Note that this splitter doesn't handle horizontal lines defined\n",
    "    # by *three or more* of ***, ---, or ___, but this is not handled\n",
    "    \"\\n\\n\",\n",
    "    \"\\n\",\n",
    "    \" \",\n",
    "    \"\",\n",
    "]\n",
    "splitter = RecursiveCharacterTextSplitter(\n",
    "    chunk_size=CHUNK_SIZE,\n",
    "    chunk_overlap=CHUNK_OVERLAP,\n",
    "    separators=seperators,\n",
    "    length_function=len,\n",
    "    add_start_index=True,\n",
    ")\n",
    "split_chunks[EXPERIMENT_NAME] = splitter.split_documents(documents)\n",
    "\n",
    "for i, chunk in enumerate(split_chunks[EXPERIMENT_NAME]):\n",
    "    chunk.metadata[\"id\"] = i\n"
   ]
  },
  {
   "cell_type": "markdown",
   "metadata": {},
   "source": [
    "## Save To File"
   ]
  },
  {
   "cell_type": "code",
   "execution_count": 4,
   "metadata": {},
   "outputs": [],
   "source": [
    "from utils.loader import save_chunks\n",
    "save_chunks(split_chunks, data_dir)"
   ]
  }
 ],
 "metadata": {
  "kernelspec": {
   "display_name": "venv",
   "language": "python",
   "name": "python3"
  },
  "language_info": {
   "codemirror_mode": {
    "name": "ipython",
    "version": 3
   },
   "file_extension": ".py",
   "mimetype": "text/x-python",
   "name": "python",
   "nbconvert_exporter": "python",
   "pygments_lexer": "ipython3",
   "version": "3.10.12"
  }
 },
 "nbformat": 4,
 "nbformat_minor": 2
}
