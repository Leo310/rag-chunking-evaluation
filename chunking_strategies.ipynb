{
 "cells": [
  {
   "cell_type": "markdown",
   "metadata": {},
   "source": [
    "# Chunking Strategies\n",
    "\n",
    "aka Document Transformers, aka Text Splitters\n",
    "\n",
    "Inspired by [5 Levels of Text Splitting](https://github.com/FullStackRetrieval-com/RetrievalTutorials/blob/main/tutorials/LevelsOfTextSplitting/5_Levels_Of_Text_Splitting.ipynb)"
   ]
  },
  {
   "cell_type": "code",
   "execution_count": 9,
   "metadata": {},
   "outputs": [],
   "source": [
    "import os\n",
    "from langchain_core.documents import Document\n",
    "from dotenv import load_dotenv\n",
    "\n",
    "from utils.loader import load_documents\n",
    "\n",
    "loaded = load_dotenv()\n",
    "data_dir = os.getenv('CHUNKING_BENCHMARK') or 'my_benchmark/'\n",
    "\n",
    "documents = load_documents(data_dir)\n"
   ]
  },
  {
   "cell_type": "code",
   "execution_count": 13,
   "metadata": {},
   "outputs": [],
   "source": [
    "from typing import Dict\n",
    "\n",
    "split_chunks: Dict[str, Document] = {}"
   ]
  },
  {
   "cell_type": "markdown",
   "metadata": {},
   "source": [
    "# For Unstructured Text"
   ]
  },
  {
   "cell_type": "markdown",
   "metadata": {},
   "source": [
    "## Fixed-size chunking"
   ]
  },
  {
   "cell_type": "code",
   "execution_count": 60,
   "metadata": {},
   "outputs": [],
   "source": [
    "from langchain_text_splitters import CharacterTextSplitter\n",
    "\n",
    "CHUNK_SIZE = 512\n",
    "CHUNK_OVERLAP = 0\n",
    "EXPERIMENT_NAME = \"fixed-size-\" + str(CHUNK_SIZE) + \"-\" + str(CHUNK_OVERLAP)\n",
    "\n",
    "splitter = CharacterTextSplitter(\n",
    "    separator=\"\",\n",
    "    chunk_size=CHUNK_SIZE,\n",
    "    chunk_overlap=CHUNK_OVERLAP,\n",
    "    length_function=len,\n",
    ")\n",
    "\n",
    "split_chunks[EXPERIMENT_NAME] = splitter.split_documents(documents)\n",
    "\n",
    "for i, chunk in enumerate(split_chunks[EXPERIMENT_NAME]):\n",
    "    chunk.metadata[\"id\"] = i\n"
   ]
  },
  {
   "cell_type": "markdown",
   "metadata": {},
   "source": [
    "## RecursiveTextCharacterSplitting\n"
   ]
  },
  {
   "cell_type": "code",
   "execution_count": 62,
   "metadata": {},
   "outputs": [],
   "source": [
    "from langchain_text_splitters import RecursiveCharacterTextSplitter\n",
    "\n",
    "CHUNK_SIZE = 512\n",
    "CHUNK_OVERLAP = 0\n",
    "EXPERIMENT_NAME = \"recursive-\" + str(CHUNK_SIZE) + \"-\" + str(CHUNK_OVERLAP)\n",
    "\n",
    "splitter = RecursiveCharacterTextSplitter(\n",
    "    chunk_size=CHUNK_SIZE,\n",
    "    chunk_overlap=CHUNK_OVERLAP,\n",
    "    length_function=len,\n",
    ")\n",
    "\n",
    "split_chunks[EXPERIMENT_NAME] = splitter.split_documents(documents)\n",
    "\n",
    "for i, chunk in enumerate(split_chunks[EXPERIMENT_NAME]):\n",
    "    chunk.metadata[\"id\"] = i"
   ]
  },
  {
   "cell_type": "code",
   "execution_count": 21,
   "metadata": {},
   "outputs": [
    {
     "data": {
      "text/plain": [
       "dict_keys(['fixed-size-2048-0', 'fixed-size-1024-0', 'fixed-size-4096-0', 'fixed-size-1024-200', 'fixed-size-4096-200', 'fixed-size-2048-200', 'recursive-2048-0', 'recursive-1024-0', 'recursive-4096-0'])"
      ]
     },
     "execution_count": 21,
     "metadata": {},
     "output_type": "execute_result"
    }
   ],
   "source": [
    "split_chunks.keys()"
   ]
  },
  {
   "cell_type": "markdown",
   "metadata": {},
   "source": [
    "## Semantic Chunking\n"
   ]
  },
  {
   "cell_type": "code",
   "execution_count": 5,
   "metadata": {},
   "outputs": [],
   "source": [
    "from langchain_experimental.text_splitter import SemanticChunker\n",
    "from langchain_openai import OpenAIEmbeddings\n",
    "\n",
    "PERCENTILE = 95\n",
    "EXPERIMENT_NAME = \"semantic-chunks-\" + str(PERCENTILE)\n",
    "\n",
    "embeddings = OpenAIEmbeddings(model=\"text-embedding-3-small\")\n",
    "\n",
    "splitter = SemanticChunker(embeddings, breakpoint_threshold_amount=PERCENTILE)\n",
    "split_chunks[EXPERIMENT_NAME] = splitter.split_documents(documents)\n",
    "\n",
    "for i, chunk in enumerate(split_chunks[EXPERIMENT_NAME]):\n",
    "    chunk.metadata[\"id\"] = i"
   ]
  },
  {
   "cell_type": "code",
   "execution_count": 7,
   "metadata": {},
   "outputs": [],
   "source": [
    "from langchain_experimental.text_splitter import SemanticChunker\n",
    "from langchain_text_splitters import RecursiveCharacterTextSplitter\n",
    "from langchain_openai import OpenAIEmbeddings\n",
    "\n",
    "PERCENTILE = 95\n",
    "CHUNK_SIZE = 512 * 4\n",
    "CHUNK_OVERLAP = 200\n",
    "EXPERIMENT_NAME = \"semantic-chunks-\" + str(PERCENTILE) + \"-recursive-\" + str(CHUNK_SIZE) + \"-\" + str(CHUNK_OVERLAP)\n",
    "\n",
    "embeddings = OpenAIEmbeddings(model=\"text-embedding-3-small\")\n",
    "\n",
    "splitter = SemanticChunker(embeddings, breakpoint_threshold_amount=PERCENTILE)\n",
    "semantic_splits = splitter.split_documents(documents)\n",
    "\n",
    "splitter = RecursiveCharacterTextSplitter(\n",
    "    chunk_size=CHUNK_SIZE,\n",
    "    chunk_overlap=CHUNK_OVERLAP,\n",
    "    length_function=len,\n",
    ")\n",
    "split_chunks[EXPERIMENT_NAME] = splitter.split_documents(semantic_splits)\n",
    "\n",
    "for i, chunk in enumerate(split_chunks[EXPERIMENT_NAME]):\n",
    "    chunk.metadata[\"id\"] = i"
   ]
  },
  {
   "cell_type": "markdown",
   "metadata": {},
   "source": [
    "## Dense X: Propositional Chunking\n"
   ]
  },
  {
   "cell_type": "markdown",
   "metadata": {},
   "source": [
    "# For Document Specific Splitting "
   ]
  },
  {
   "cell_type": "markdown",
   "metadata": {},
   "source": [
    "## Markdown"
   ]
  },
  {
   "cell_type": "code",
   "execution_count": 11,
   "metadata": {},
   "outputs": [],
   "source": [
    "from langchain_text_splitters import MarkdownHeaderTextSplitter\n",
    "\n",
    "EXPERIMENT_NAME = \"markdown-header\"\n",
    "\n",
    "splitter = MarkdownHeaderTextSplitter(\n",
    "    headers_to_split_on=[(\"#\", \"1\"), (\"#\", \"2\"), (\"#\", \"3\"), (\"#\", \"4\"), (\"#\", \"5\"), (\"#\", \"6\")],\n",
    "    strip_headers=False, \n",
    ")\n",
    "\n",
    "md_header_splits = []\n",
    "for document in documents:\n",
    "    chunks = splitter.split_text(document.page_content)\n",
    "    for chunk in chunks:\n",
    "        chunk.metadata[\"source\"] = document.metadata[\"source\"]\n",
    "    md_header_splits.extend(chunks)\n",
    "\n",
    "split_chunks[EXPERIMENT_NAME] = md_header_splits\n",
    "\n",
    "for i, chunk in enumerate(split_chunks[EXPERIMENT_NAME]):\n",
    "    chunk.metadata[\"id\"] = i"
   ]
  },
  {
   "cell_type": "code",
   "execution_count": 19,
   "metadata": {},
   "outputs": [],
   "source": [
    "from langchain_text_splitters import MarkdownHeaderTextSplitter\n",
    "from langchain_text_splitters import RecursiveCharacterTextSplitter\n",
    "\n",
    "CHUNK_SIZE = 512\n",
    "CHUNK_OVERLAP = 0\n",
    "EXPERIMENT_NAME = \"markdown-header-recursive-\" + str(CHUNK_SIZE) + \"-\" + str(CHUNK_OVERLAP)\n",
    "\n",
    "splitter = MarkdownHeaderTextSplitter(\n",
    "    headers_to_split_on=[(\"#\", \"1\"), (\"#\", \"2\"), (\"#\", \"3\"), (\"#\", \"4\"), (\"#\", \"5\"), (\"#\", \"6\")],\n",
    "    strip_headers=False, \n",
    ")\n",
    "\n",
    "md_header_splits = []\n",
    "for document in documents:\n",
    "    chunks = splitter.split_text(document.page_content)\n",
    "    for chunk in chunks:\n",
    "        chunk.metadata[\"source\"] = document.metadata[\"source\"]\n",
    "    md_header_splits.extend(chunks)\n",
    "\n",
    "splitter = RecursiveCharacterTextSplitter(\n",
    "    chunk_size=CHUNK_SIZE,\n",
    "    chunk_overlap=CHUNK_OVERLAP,\n",
    "    length_function=len,\n",
    ")\n",
    "\n",
    "split_chunks[EXPERIMENT_NAME] = splitter.split_documents(md_header_splits)\n",
    "\n",
    "for i, chunk in enumerate(split_chunks[EXPERIMENT_NAME]):\n",
    "    chunk.metadata[\"id\"] = i"
   ]
  },
  {
   "cell_type": "markdown",
   "metadata": {},
   "source": [
    "# Save To File"
   ]
  },
  {
   "cell_type": "code",
   "execution_count": 20,
   "metadata": {},
   "outputs": [],
   "source": [
    "from utils.loader import save_chunks\n",
    "save_chunks(split_chunks, data_dir)"
   ]
  }
 ],
 "metadata": {
  "kernelspec": {
   "display_name": "venv",
   "language": "python",
   "name": "python3"
  },
  "language_info": {
   "codemirror_mode": {
    "name": "ipython",
    "version": 3
   },
   "file_extension": ".py",
   "mimetype": "text/x-python",
   "name": "python",
   "nbconvert_exporter": "python",
   "pygments_lexer": "ipython3",
   "version": "3.10.12"
  }
 },
 "nbformat": 4,
 "nbformat_minor": 2
}
