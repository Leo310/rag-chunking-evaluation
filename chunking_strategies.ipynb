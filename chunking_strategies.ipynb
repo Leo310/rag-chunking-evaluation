{
 "cells": [
  {
   "cell_type": "markdown",
   "metadata": {},
   "source": [
    "# Chunking Strategies\n",
    "\n",
    "aka Document Transformers, aka Text Splitters"
   ]
  },
  {
   "cell_type": "code",
   "execution_count": 1,
   "metadata": {},
   "outputs": [],
   "source": [
    "import os\n",
    "from langchain_core.documents import Document\n",
    "from dotenv import load_dotenv\n",
    "\n",
    "from utils.data_loader import load_documents\n",
    "\n",
    "loaded = load_dotenv()\n",
    "data_dir = os.getenv('CHUNKING_BENCHMARK_DATADIR') or 'data/'\n",
    "\n",
    "documents = load_documents(data_dir)\n"
   ]
  },
  {
   "cell_type": "code",
   "execution_count": 2,
   "metadata": {},
   "outputs": [],
   "source": [
    "from typing import Dict\n",
    "\n",
    "split_chunks: Dict[str, Document] = {}"
   ]
  },
  {
   "cell_type": "markdown",
   "metadata": {},
   "source": [
    "# For Unstructured Text"
   ]
  },
  {
   "cell_type": "markdown",
   "metadata": {},
   "source": [
    "## Fixed-size chunking"
   ]
  },
  {
   "cell_type": "code",
   "execution_count": 38,
   "metadata": {},
   "outputs": [],
   "source": [
    "from langchain_text_splitters import CharacterTextSplitter\n",
    "\n",
    "CHUNK_SIZE = 512\n",
    "CHUNK_OVERLAP = 200\n",
    "EXPERIMENT_NAME = \"fixed_size-\" + str(CHUNK_SIZE) + \"-\" + str(CHUNK_OVERLAP)\n",
    "\n",
    "splitter = CharacterTextSplitter(\n",
    "    separator=\"\",\n",
    "    chunk_size=CHUNK_SIZE,\n",
    "    chunk_overlap=CHUNK_OVERLAP,\n",
    "    length_function=len,\n",
    ")\n",
    "\n",
    "split_chunks[EXPERIMENT_NAME] = splitter.split_documents(documents)\n",
    "\n",
    "for i, chunk in enumerate(split_chunks[EXPERIMENT_NAME]):\n",
    "    chunk.metadata[\"id\"] = i\n"
   ]
  },
  {
   "cell_type": "markdown",
   "metadata": {},
   "source": [
    "## RecursiveTextCharacterSplitting\n"
   ]
  },
  {
   "cell_type": "code",
   "execution_count": 31,
   "metadata": {},
   "outputs": [],
   "source": [
    "from langchain_text_splitters import RecursiveCharacterTextSplitter\n",
    "\n",
    "CHUNK_SIZE = 512\n",
    "CHUNK_OVERLAP = 200\n",
    "EXPERIMENT_NAME = \"recursive-\" + str(CHUNK_SIZE) + \"-\" + str(CHUNK_OVERLAP)\n",
    "\n",
    "splitter = RecursiveCharacterTextSplitter(\n",
    "    chunk_size=CHUNK_SIZE,\n",
    "    chunk_overlap=CHUNK_OVERLAP,\n",
    "    length_function=len,\n",
    ")\n",
    "\n",
    "split_chunks[EXPERIMENT_NAME] = splitter.split_documents(documents)\n",
    "\n",
    "for i, chunk in enumerate(split_chunks[EXPERIMENT_NAME]):\n",
    "    chunk.metadata[\"id\"] = i"
   ]
  },
  {
   "cell_type": "code",
   "execution_count": 21,
   "metadata": {},
   "outputs": [
    {
     "data": {
      "text/plain": [
       "dict_keys(['fixed-size-2048-0', 'fixed-size-1024-0', 'fixed-size-4096-0', 'fixed-size-1024-200', 'fixed-size-4096-200', 'fixed-size-2048-200', 'recursive-2048-0', 'recursive-1024-0', 'recursive-4096-0'])"
      ]
     },
     "execution_count": 21,
     "metadata": {},
     "output_type": "execute_result"
    }
   ],
   "source": [
    "split_chunks.keys()"
   ]
  },
  {
   "cell_type": "markdown",
   "metadata": {},
   "source": [
    "## Semantic Chunking\n"
   ]
  },
  {
   "cell_type": "code",
   "execution_count": 24,
   "metadata": {},
   "outputs": [],
   "source": [
    "from langchain_experimental.text_splitter import SemanticChunker\n",
    "from langchain_openai import OpenAIEmbeddings\n",
    "\n",
    "PERCENTILE = 90\n",
    "EXPERIMENT_NAME = \"semantic_chunks_\" + str(PERCENTILE)\n",
    "\n",
    "embeddings = OpenAIEmbeddings(model=\"text-embedding-3-small\")\n",
    "\n",
    "splitter = SemanticChunker(embeddings, breakpoint_threshold_amount=PERCENTILE)\n",
    "split_chunks[EXPERIMENT_NAME] = splitter.split_documents(documents)\n",
    "\n",
    "for i, chunk in enumerate(split_chunks[EXPERIMENT_NAME]):\n",
    "    chunk.metadata[\"id\"] = i"
   ]
  },
  {
   "cell_type": "markdown",
   "metadata": {},
   "source": [
    "## Dense X: Propositional Chunking\n"
   ]
  },
  {
   "cell_type": "markdown",
   "metadata": {},
   "source": [
    "# For Document Specific Splitting "
   ]
  },
  {
   "cell_type": "markdown",
   "metadata": {},
   "source": [
    "## Markdown"
   ]
  },
  {
   "cell_type": "code",
   "execution_count": 6,
   "metadata": {},
   "outputs": [
    {
     "name": "stdout",
     "output_type": "stream",
     "text": [
      "0\n",
      "22\n",
      "28\n",
      "42\n",
      "59\n",
      "74\n",
      "86\n",
      "97\n",
      "107\n",
      "121\n"
     ]
    }
   ],
   "source": [
    "from langchain_text_splitters import MarkdownHeaderTextSplitter\n",
    "\n",
    "EXPERIMENT_NAME = \"markdown_header\"\n",
    "\n",
    "splitter = MarkdownHeaderTextSplitter(\n",
    "    headers_to_split_on=[(\"#\", \"h_1\"), (\"##\", \"h_2\"), (\"###\", \"h_3\"), (\"####\", \"h_4\"), (\"#####\", \"h_5\"), (\"######\", \"h_6\")],\n",
    "    strip_headers=False, \n",
    ")\n",
    "\n",
    "md_header_splits = []\n",
    "for document in documents:\n",
    "    chunks = splitter.split_text(document.page_content)\n",
    "    print(len(md_header_splits))\n",
    "    for chunk in chunks:\n",
    "        chunk.metadata[\"source\"] = document.metadata[\"source\"]\n",
    "    md_header_splits.extend(chunks)\n",
    "\n",
    "split_chunks[EXPERIMENT_NAME] = md_header_splits\n",
    "\n",
    "for i, chunk in enumerate(split_chunks[EXPERIMENT_NAME]):\n",
    "    chunk.metadata[\"id\"] = i"
   ]
  },
  {
   "cell_type": "code",
   "execution_count": 23,
   "metadata": {},
   "outputs": [],
   "source": [
    "from langchain_text_splitters import MarkdownHeaderTextSplitter\n",
    "\n",
    "EXPERIMENT_NAME = \"markdown_header_parent\"\n",
    "\n",
    "splitter = MarkdownHeaderTextSplitter(\n",
    "    headers_to_split_on=[(\"#\", \"h_1\"), (\"##\", \"h_2\"), (\"###\", \"h_3\"), (\"####\", \"h_4\"), (\"#####\", \"h_5\"), (\"######\", \"h_6\")],\n",
    "    strip_headers=False, # couldnt use this because for some reason it reduced the total number of chunks\n",
    ")\n",
    "\n",
    "md_header_splits = []\n",
    "for document in documents:\n",
    "    chunks = splitter.split_text(document.page_content)\n",
    "    for chunk in chunks:\n",
    "        chunk.metadata[\"source\"] = document.metadata[\"source\"]\n",
    "        # prepend the parent header to the childs page_content for each chunk\n",
    "        skipped_first = False\n",
    "        for i in range(6, -1, -1): # iterate from h_6 to h_1\n",
    "            if f\"h_{i}\" in chunk.metadata:\n",
    "                if not skipped_first:\n",
    "                    skipped_first = True\n",
    "                    continue\n",
    "\n",
    "                # need to also prepend the right amout of # to the header\n",
    "                chunk.page_content = f\"{'#' * i} {chunk.metadata[f'h_{i}']}\\n{chunk.page_content}\"\n",
    "\n",
    "    md_header_splits.extend(chunks)\n",
    "\n",
    "\n",
    "split_chunks[EXPERIMENT_NAME] = md_header_splits\n",
    "\n",
    "for i, chunk in enumerate(split_chunks[EXPERIMENT_NAME]):\n",
    "    chunk.metadata[\"id\"] = i"
   ]
  },
  {
   "cell_type": "markdown",
   "metadata": {},
   "source": [
    "# Save To File"
   ]
  },
  {
   "cell_type": "code",
   "execution_count": 39,
   "metadata": {},
   "outputs": [],
   "source": [
    "from utils.data_loader import save_chunks\n",
    "save_chunks(split_chunks, data_dir)"
   ]
  }
 ],
 "metadata": {
  "kernelspec": {
   "display_name": "venv",
   "language": "python",
   "name": "python3"
  },
  "language_info": {
   "codemirror_mode": {
    "name": "ipython",
    "version": 3
   },
   "file_extension": ".py",
   "mimetype": "text/x-python",
   "name": "python",
   "nbconvert_exporter": "python",
   "pygments_lexer": "ipython3",
   "version": "3.12.4"
  }
 },
 "nbformat": 4,
 "nbformat_minor": 2
}
