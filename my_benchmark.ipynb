{
  "cells": [
    {
      "cell_type": "markdown",
      "metadata": {},
      "source": [
        "# My Evaluation Approach\n"
      ]
    },
    {
      "cell_type": "markdown",
      "metadata": {},
      "source": [
        "![](assets/my_approach.png)\n"
      ]
    },
    {
      "cell_type": "markdown",
      "metadata": {},
      "source": [
        "1. **Document Preparation**: Load the entire document and extract content.\n",
        "2. **Question Generation**: Use an LLM to generate broad and detailed questions about the document.\n",
        "3. **Chunking Application**: Apply various chunking methods to the document. The next steps will be executed for each chunking strategy separately.\n",
        "4. **Chunk-Question Relevancy Scoring**: For each generated question, instruct an LLM to grade all chunks by relevancy to the question. These chunks become the ground truth and will represent our silver evaluation dataset.\n",
        "5. **Human Annotation**: Human annotators then review and modify the silver dataset to produce the gold dataset.\n",
        "6. **Chunk Retrieval**: Embed the chunks and retrieve the most similar chunks to each question.\n",
        "7. **Evaluate Retrieval**: Compare the retrieved chunks with the synthesized ground truth chunks and calculate the Precision, Recall and nDCG to analyse the retrieval performance"
      ]
    },
    {
      "cell_type": "markdown",
      "metadata": {},
      "source": [
        "## Setup\n"
      ]
    },
    {
      "cell_type": "code",
      "execution_count": 3,
      "metadata": {},
      "outputs": [],
      "source": [
        "%load_ext autoreload\n",
        "%autoreload 2"
      ]
    },
    {
      "cell_type": "code",
      "execution_count": 4,
      "metadata": {},
      "outputs": [],
      "source": [
        "import json\n",
        "import time\n",
        "import os\n",
        "from typing import List, Dict, TypedDict\n",
        "from pathlib import Path\n",
        "from tqdm import tqdm\n",
        "import pandas as pd\n",
        "import nest_asyncio\n",
        "from dotenv import load_dotenv\n",
        "\n",
        "import openai\n",
        "from langchain_community.document_loaders import TextLoader\n",
        "from langchain_core.documents import Document\n",
        "from langchain_community.vectorstores import FAISS\n",
        "from langchain_openai import OpenAIEmbeddings\n",
        "from langchain_core.vectorstores import VectorStore\n",
        "from langchain_openai import ChatOpenAI\n",
        "from langchain_core.output_parsers import JsonOutputParser\n",
        "from langchain_core.pydantic_v1 import BaseModel, Field\n",
        "from langchain.prompts import PromptTemplate\n",
        "from langchain_core.messages import HumanMessage, SystemMessage\n",
        "from langchain_openai import ChatOpenAI\n",
        "from langchain import hub\n",
        "from langchain_core.runnables import RunnablePassthrough\n",
        "from langchain.schema import StrOutputParser"
      ]
    },
    {
      "cell_type": "code",
      "execution_count": 8,
      "metadata": {},
      "outputs": [],
      "source": [
        "loaded = load_dotenv(override=True)\n",
        "\n",
        "data_dir = \"data/\"\n",
        "os.environ['CHUNKING_BENCHMARK_DATADIR'] = data_dir"
      ]
    },
    {
      "cell_type": "markdown",
      "metadata": {},
      "source": [
        "# 1. Load and Save Documents\n"
      ]
    },
    {
      "cell_type": "markdown",
      "metadata": {},
      "source": [
        "Each document is loaded as one Langchain document possibly to small to fit into a LLM. Therefore, we need to split these documents into smaller pieces of text for further processing."
      ]
    },
    {
      "cell_type": "code",
      "execution_count": null,
      "metadata": {},
      "outputs": [],
      "source": [
        "from utils.data_loader import save_documents\n",
        "\n",
        "documents: List[Document] = []\n",
        "for file in os.listdir(data_dir+\"documents\"):\n",
        "    file_path = os.path.join(data_dir+\"documents\", file)\n",
        "    loader = TextLoader(file_path)\n",
        "    documents.extend(loader.load())\n",
        "\n",
        "save_documents(documents, data_dir)"
      ]
    },
    {
      "cell_type": "code",
      "execution_count": 6,
      "metadata": {},
      "outputs": [],
      "source": [
        "from utils.data_loader import load_documents\n",
        "documents = load_documents(data_dir)"
      ]
    },
    {
      "cell_type": "markdown",
      "metadata": {},
      "source": [
        "# 2. Question Generation\n"
      ]
    },
    {
      "cell_type": "markdown",
      "metadata": {},
      "source": [
        "Generate synthetic Questions across Documents to challenge chunking strategies on multi-context queries\n"
      ]
    },
    {
      "cell_type": "code",
      "execution_count": 24,
      "metadata": {},
      "outputs": [],
      "source": [
        "# Question generation based on documents\n",
        "class Question(BaseModel):\n",
        "    question: str = Field(description=\"The question generated by the model\")\n",
        "    type: str = Field(description=\"The type of question generated\")\n",
        "\n",
        "class Questions(BaseModel):\n",
        "    questions: List[Question] = Field(description=\"The list of questions generated by the model\")\n",
        "\n",
        "parser = JsonOutputParser(pydantic_object=Questions)\n",
        "\n",
        "question_generation_prompt = PromptTemplate(\n",
        "    input_variables=[\"document\"],\n",
        "    partial_variables={\"format_instructions\": parser.get_format_instructions()},\n",
        "    template=\"\"\"\n",
        "You are a highly knowledgeable assistant tasked with generating challenging questions to evaluate different document chunking strategies in retrieval augmented generation (RAG) pipelines. \n",
        "\n",
        "<document>\n",
        "{document}\n",
        "</document>\n",
        "\n",
        "Based on the document provided, generate a set of questions that meet the following criteria:\n",
        "1. **Specific and Detailed Question (type: detailed):**  \n",
        "   - This question should be highly specific and precise, targeting one particular section, name, date, event, or factual detail within the document.\n",
        "   - The question should be designed to challenge chunking strategies that include too much context, potentially leading to noise or irrelevant information being retrieved. The answer should require precise retrieval of a specific detail without confusion from surrounding content.\n",
        "2. **Broad and Complex Question (type: broad):**  \n",
        "   - This question should be complex, requiring a comprehensive understanding of the document as a whole, involving multiple interlinked facts or concepts.\n",
        "   - The question should challenge chunking strategies that use chunks that are too small, making it difficult to retrieve and synthesize a well-rounded answer from fragmented pieces of information. The answer should require a broad perspective and the ability to connect multiple sections of the document.\n",
        "\n",
        "For each question type please generate 2 such questions about the provided document. Use the following format:\n",
        "{format_instructions}\n",
        "\"\"\"\n",
        ")\n",
        "\n",
        "generator_llm = ChatOpenAI(model=\"gpt-4o-mini\", temperature=0)\n",
        "\n",
        "chain = question_generation_prompt | generator_llm | parser\n",
        "questions = []\n",
        "for document in documents[:6]:\n",
        "    doc_questions = chain.invoke({\"document\": document.page_content})[\"questions\"]\n",
        "    for question in doc_questions:\n",
        "        question[\"source\"] = document.metadata[\"source\"]\n",
        "\n",
        "    questions.extend(doc_questions)"
      ]
    },
    {
      "cell_type": "code",
      "execution_count": 25,
      "metadata": {},
      "outputs": [],
      "source": [
        "with open(f\"{data_dir}synthetic_questions.json\", \"w\") as f:\n",
        "    json.dump(questions, f)"
      ]
    },
    {
      "cell_type": "markdown",
      "metadata": {},
      "source": [
        "# 3. Apply chunking\n"
      ]
    },
    {
      "cell_type": "markdown",
      "metadata": {},
      "source": [
        "Execute another notebook containing various chunking strategies which are applied on the documents. You can also run this notebook seperately to have manuel control over each method."
      ]
    },
    {
      "cell_type": "code",
      "execution_count": null,
      "metadata": {},
      "outputs": [],
      "source": [
        "%run -i chunking_strategies.ipynb"
      ]
    },
    {
      "cell_type": "markdown",
      "metadata": {},
      "source": [
        "Load split chunks from disk:"
      ]
    },
    {
      "cell_type": "code",
      "execution_count": 26,
      "metadata": {},
      "outputs": [],
      "source": [
        "from utils.data_loader import load_chunks\n",
        "split_chunks: Dict[str, Document] = load_chunks(data_dir)"
      ]
    },
    {
      "cell_type": "markdown",
      "metadata": {},
      "source": [
        "Analyze chunk count and average chunk size per strategy:"
      ]
    },
    {
      "cell_type": "code",
      "execution_count": 27,
      "metadata": {},
      "outputs": [
        {
          "data": {
            "text/html": [
              "<style type=\"text/css\">\n",
              "</style>\n",
              "<table id=\"T_b76cc\">\n",
              "  <thead>\n",
              "    <tr>\n",
              "      <th id=\"T_b76cc_level0_col0\" class=\"col_heading level0 col0\" >Experiment</th>\n",
              "      <th id=\"T_b76cc_level0_col1\" class=\"col_heading level0 col1\" >Chunk Count</th>\n",
              "      <th id=\"T_b76cc_level0_col2\" class=\"col_heading level0 col2\" >Average Chunk Size</th>\n",
              "    </tr>\n",
              "  </thead>\n",
              "  <tbody>\n",
              "    <tr>\n",
              "      <td id=\"T_b76cc_row0_col0\" class=\"data row0 col0\" >fixed_size-2048-0</td>\n",
              "      <td id=\"T_b76cc_row0_col1\" class=\"data row0 col1\" >65</td>\n",
              "      <td id=\"T_b76cc_row0_col2\" class=\"data row0 col2\" >1915</td>\n",
              "    </tr>\n",
              "    <tr>\n",
              "      <td id=\"T_b76cc_row1_col0\" class=\"data row1 col0\" >semantic_chunks_95</td>\n",
              "      <td id=\"T_b76cc_row1_col1\" class=\"data row1 col1\" >67</td>\n",
              "      <td id=\"T_b76cc_row1_col2\" class=\"data row1 col2\" >1848</td>\n",
              "    </tr>\n",
              "    <tr>\n",
              "      <td id=\"T_b76cc_row2_col0\" class=\"data row2 col0\" >fixed_size-2048-200</td>\n",
              "      <td id=\"T_b76cc_row2_col1\" class=\"data row2 col1\" >72</td>\n",
              "      <td id=\"T_b76cc_row2_col2\" class=\"data row2 col2\" >1902</td>\n",
              "    </tr>\n",
              "    <tr>\n",
              "      <td id=\"T_b76cc_row3_col0\" class=\"data row3 col0\" >recursive-2048-0</td>\n",
              "      <td id=\"T_b76cc_row3_col1\" class=\"data row3 col1\" >72</td>\n",
              "      <td id=\"T_b76cc_row3_col2\" class=\"data row3 col2\" >1728</td>\n",
              "    </tr>\n",
              "    <tr>\n",
              "      <td id=\"T_b76cc_row4_col0\" class=\"data row4 col0\" >recursive-2048-200</td>\n",
              "      <td id=\"T_b76cc_row4_col1\" class=\"data row4 col1\" >73</td>\n",
              "      <td id=\"T_b76cc_row4_col2\" class=\"data row4 col2\" >1736</td>\n",
              "    </tr>\n",
              "    <tr>\n",
              "      <td id=\"T_b76cc_row5_col0\" class=\"data row5 col0\" >semantic_chunks_90</td>\n",
              "      <td id=\"T_b76cc_row5_col1\" class=\"data row5 col1\" >118</td>\n",
              "      <td id=\"T_b76cc_row5_col2\" class=\"data row5 col2\" >1049</td>\n",
              "    </tr>\n",
              "    <tr>\n",
              "      <td id=\"T_b76cc_row6_col0\" class=\"data row6 col0\" >fixed_size-1024-0</td>\n",
              "      <td id=\"T_b76cc_row6_col1\" class=\"data row6 col1\" >127</td>\n",
              "      <td id=\"T_b76cc_row6_col2\" class=\"data row6 col2\" >980</td>\n",
              "    </tr>\n",
              "    <tr>\n",
              "      <td id=\"T_b76cc_row7_col0\" class=\"data row7 col0\" >markdown_header_parent</td>\n",
              "      <td id=\"T_b76cc_row7_col1\" class=\"data row7 col1\" >146</td>\n",
              "      <td id=\"T_b76cc_row7_col2\" class=\"data row7 col2\" >873</td>\n",
              "    </tr>\n",
              "    <tr>\n",
              "      <td id=\"T_b76cc_row8_col0\" class=\"data row8 col0\" >markdown_header</td>\n",
              "      <td id=\"T_b76cc_row8_col1\" class=\"data row8 col1\" >146</td>\n",
              "      <td id=\"T_b76cc_row8_col2\" class=\"data row8 col2\" >844</td>\n",
              "    </tr>\n",
              "    <tr>\n",
              "      <td id=\"T_b76cc_row9_col0\" class=\"data row9 col0\" >fixed_size-1024-200</td>\n",
              "      <td id=\"T_b76cc_row9_col1\" class=\"data row9 col1\" >153</td>\n",
              "      <td id=\"T_b76cc_row9_col2\" class=\"data row9 col2\" >1000</td>\n",
              "    </tr>\n",
              "    <tr>\n",
              "      <td id=\"T_b76cc_row10_col0\" class=\"data row10 col0\" >recursive-1024-0</td>\n",
              "      <td id=\"T_b76cc_row10_col1\" class=\"data row10 col1\" >155</td>\n",
              "      <td id=\"T_b76cc_row10_col2\" class=\"data row10 col2\" >802</td>\n",
              "    </tr>\n",
              "    <tr>\n",
              "      <td id=\"T_b76cc_row11_col0\" class=\"data row11 col0\" >recursive-1024-200</td>\n",
              "      <td id=\"T_b76cc_row11_col1\" class=\"data row11 col1\" >164</td>\n",
              "      <td id=\"T_b76cc_row11_col2\" class=\"data row11 col2\" >810</td>\n",
              "    </tr>\n",
              "    <tr>\n",
              "      <td id=\"T_b76cc_row12_col0\" class=\"data row12 col0\" >fixed_size-512-0</td>\n",
              "      <td id=\"T_b76cc_row12_col1\" class=\"data row12 col1\" >248</td>\n",
              "      <td id=\"T_b76cc_row12_col2\" class=\"data row12 col2\" >502</td>\n",
              "    </tr>\n",
              "    <tr>\n",
              "      <td id=\"T_b76cc_row13_col0\" class=\"data row13 col0\" >recursive-512-0</td>\n",
              "      <td id=\"T_b76cc_row13_col1\" class=\"data row13 col1\" >353</td>\n",
              "      <td id=\"T_b76cc_row13_col2\" class=\"data row13 col2\" >351</td>\n",
              "    </tr>\n",
              "    <tr>\n",
              "      <td id=\"T_b76cc_row14_col0\" class=\"data row14 col0\" >recursive-512-200</td>\n",
              "      <td id=\"T_b76cc_row14_col1\" class=\"data row14 col1\" >379</td>\n",
              "      <td id=\"T_b76cc_row14_col2\" class=\"data row14 col2\" >378</td>\n",
              "    </tr>\n",
              "    <tr>\n",
              "      <td id=\"T_b76cc_row15_col0\" class=\"data row15 col0\" >fixed_size-512-200</td>\n",
              "      <td id=\"T_b76cc_row15_col1\" class=\"data row15 col1\" >398</td>\n",
              "      <td id=\"T_b76cc_row15_col2\" class=\"data row15 col2\" >507</td>\n",
              "    </tr>\n",
              "  </tbody>\n",
              "</table>\n"
            ],
            "text/plain": [
              "<pandas.io.formats.style.Styler at 0x13fbba990>"
            ]
          },
          "execution_count": 27,
          "metadata": {},
          "output_type": "execute_result"
        }
      ],
      "source": [
        "df = pd.DataFrame(columns=[\"Experiment\", \"Chunk Count\", \"Average Chunk Size\"])\n",
        "for experiment_name, chunks in split_chunks.items():\n",
        "    df.loc[len(df)] = [experiment_name, len(chunks), round(sum([len(chunk.page_content) for chunk in chunks])/len(chunks))]\n",
        "\n",
        "df.sort_values(by=\"Chunk Count\", ascending=True).style.hide(axis=\"index\")"
      ]
    },
    {
      "cell_type": "markdown",
      "metadata": {},
      "source": [
        "# 4. (5.) Create Evaluation Datasets"
      ]
    },
    {
      "cell_type": "markdown",
      "metadata": {},
      "source": [
        "### Generate Relevancy Score for each chunk\n"
      ]
    },
    {
      "cell_type": "code",
      "execution_count": 46,
      "metadata": {},
      "outputs": [],
      "source": [
        "with open(f\"{data_dir}synthetic_questions.json\", \"r\") as f:\n",
        "    questions = json.load(f)"
      ]
    },
    {
      "cell_type": "markdown",
      "metadata": {},
      "source": [
        "Initialize datasets with questions"
      ]
    },
    {
      "cell_type": "code",
      "execution_count": 47,
      "metadata": {},
      "outputs": [],
      "source": [
        "from utils.metrics import Testset\n",
        "\n",
        "datasets: Dict[str, List[Testset]]  = {}\n",
        "for experiment_name in split_chunks.keys():\n",
        "    datasets[experiment_name] = []\n",
        "    for question in questions:\n",
        "        datasets[experiment_name].append({\n",
        "            \"question\": question[\"question\"],\n",
        "            \"source\": question[\"source\"],\n",
        "            \"type\": question[\"type\"],\n",
        "            \"ground_truth_chunks\": {} \n",
        "        })"
      ]
    },
    {
      "cell_type": "markdown",
      "metadata": {},
      "source": [
        "Relevancy Prompt is taken by Trulens. The difference is that I apply it to all chunks whereas Trulens only computed it on the retrieved chunks\n"
      ]
    },
    {
      "cell_type": "code",
      "execution_count": 48,
      "metadata": {},
      "outputs": [
        {
          "name": "stdout",
          "output_type": "stream",
          "text": [
            "Collecting ground truth for recursive-2048-0\n"
          ]
        },
        {
          "name": "stderr",
          "output_type": "stream",
          "text": [
            "100%|██████████| 24/24 [00:42<00:00,  1.75s/it]\n"
          ]
        }
      ],
      "source": [
        "from concurrent.futures import ThreadPoolExecutor, as_completed\n",
        "from utils.llm_output_parser import re_0_10_rating\n",
        "\n",
        "class Grading(BaseModel):\n",
        "    score: float = Field(description=\"The relevance score provided by the grader\")\n",
        "\n",
        "parser = JsonOutputParser(pydantic_object=Grading)\n",
        "\n",
        "judge_chunk_relevancy_prompt = PromptTemplate(\n",
        "    input_variables=[\"question\", \"context\"],\n",
        "    partial_variables={\"format_instructions\": parser.get_format_instructions()},\n",
        "    template=\"\"\"\n",
        "You are a relevance grader; providing the relevance of the given context to the given question. \n",
        "Respond only as a number from 0 to 10 where 0 is the least relevant and 10 is the most relevant.\n",
        "\n",
        "<question>\n",
        "{question}\n",
        "</question>\n",
        "\n",
        "<context>\n",
        "{context}\n",
        "</context>\n",
        "\n",
        "These are the scoring guidelines:\n",
        "- Relevance score should increase as the context provides more RELEVANT information to answer the question directly.\n",
        "- Relevance score should decrease if the context contains excessive irrelevant or non-contributive information, even if it answers the question.\n",
        "- Shorter contexts with concise, highly relevant information should score higher than longer contexts with the same amount of relevant information mixed with irrelevant details.\n",
        "- Contexts that are highly relevant but contain substantial noise should score no higher than a 6 or 7.\n",
        "- Contexts that are precise and directly relevant to the entire question should score between 8 and 10. The more noise or irrelevant content present, the lower the score should be.\n",
        "- Context must be relevant and helpful for answering the entire question to get a score of 10, with minimal noise or irrelevant content.\n",
        "\n",
        "Please provide a score from 0 to 10 based on the relevance of the context to the question in the following format.\n",
        "{format_instructions}\n",
        "\"\"\"\n",
        ")\n",
        "\n",
        "critic_llm = ChatOpenAI(model=\"gpt-4o-mini\", temperature=0)\n",
        "chain = question_generation_prompt | critic_llm | parser\n",
        "\n",
        "def make_request_with_backoff(question, context, retries=8):\n",
        "    for i in range(retries):\n",
        "        try:\n",
        "            response = chain.invoke({\"question\": question, \"context\": context})\n",
        "            return response\n",
        "        except openai.RateLimitError as e:\n",
        "            if i == retries - 1:\n",
        "                raise e\n",
        "            wait_time = 2**i\n",
        "            print(f\"Rate limited, waiting {wait_time} seconds\")\n",
        "            time.sleep(wait_time)\n",
        "        except openai.APIError as e:\n",
        "            print(e)\n",
        "\n",
        "\n",
        "def process_chunk(chunk, testset):\n",
        "    if chunk.metadata[\"source\"] not in testset[\"source\"]:\n",
        "        return None, None\n",
        "\n",
        "    response = make_request_with_backoff(testset[\"question\"], context=chunk.page_content)\n",
        "    chunk_relevancy = response[\"score\"]\n",
        "    if chunk_relevancy != 0.0:\n",
        "        return str(chunk.metadata[\"id\"]), chunk_relevancy\n",
        "    return None, None\n",
        "\n",
        "for experiment_name, questions in datasets.items():\n",
        "    if os.path.exists(f\"{data_dir}/datasets/{experiment_name}.json\"):\n",
        "        continue\n",
        "\n",
        "    print(\"Collecting ground truth for\", experiment_name)\n",
        "    for testset in tqdm(questions):\n",
        "        ground_truth = {}\n",
        "        with ThreadPoolExecutor(max_workers=2) as executor:\n",
        "            future_to_chunk = {\n",
        "                executor.submit(process_chunk, chunk, testset): chunk\n",
        "                for chunk in split_chunks[experiment_name]\n",
        "            }\n",
        "            for future in as_completed(future_to_chunk):\n",
        "                chunk_id, relevancy = future.result()\n",
        "                if chunk_id and relevancy:\n",
        "                    ground_truth[chunk_id] = relevancy\n",
        "        \n",
        "        if len(ground_truth):\n",
        "            testset[\"ground_truth_chunks\"] = ground_truth\n",
        "\n",
        "    with open(f\"{data_dir}/datasets/{experiment_name}.json\", \"w\") as f:\n",
        "        json.dump(questions, f)"
      ]
    },
    {
      "cell_type": "markdown",
      "metadata": {},
      "source": [
        "### Analyse dataset"
      ]
    },
    {
      "cell_type": "code",
      "execution_count": 51,
      "metadata": {},
      "outputs": [
        {
          "data": {
            "text/html": [
              "<style type=\"text/css\">\n",
              "</style>\n",
              "<table id=\"T_6b109\">\n",
              "  <thead>\n",
              "    <tr>\n",
              "      <th id=\"T_6b109_level0_col0\" class=\"col_heading level0 col0\" >Experiment</th>\n",
              "      <th id=\"T_6b109_level0_col1\" class=\"col_heading level0 col1\" >Chunk Count</th>\n",
              "      <th id=\"T_6b109_level0_col2\" class=\"col_heading level0 col2\" >Average Chunk Size</th>\n",
              "      <th id=\"T_6b109_level0_col3\" class=\"col_heading level0 col3\" >Average Ground Truth Count</th>\n",
              "      <th id=\"T_6b109_level0_col4\" class=\"col_heading level0 col4\" >Average Relevancy per Ground Truth</th>\n",
              "    </tr>\n",
              "  </thead>\n",
              "  <tbody>\n",
              "    <tr>\n",
              "      <td id=\"T_6b109_row0_col0\" class=\"data row0 col0\" >recursive-2048-0</td>\n",
              "      <td id=\"T_6b109_row0_col1\" class=\"data row0 col1\" >72</td>\n",
              "      <td id=\"T_6b109_row0_col2\" class=\"data row0 col2\" >1728</td>\n",
              "      <td id=\"T_6b109_row0_col3\" class=\"data row0 col3\" >5.041667</td>\n",
              "      <td id=\"T_6b109_row0_col4\" class=\"data row0 col4\" >5.553719</td>\n",
              "    </tr>\n",
              "    <tr>\n",
              "      <td id=\"T_6b109_row1_col0\" class=\"data row1 col0\" >recursive-512-0</td>\n",
              "      <td id=\"T_6b109_row1_col1\" class=\"data row1 col1\" >353</td>\n",
              "      <td id=\"T_6b109_row1_col2\" class=\"data row1 col2\" >351</td>\n",
              "      <td id=\"T_6b109_row1_col3\" class=\"data row1 col3\" >26.125000</td>\n",
              "      <td id=\"T_6b109_row1_col4\" class=\"data row1 col4\" >2.931419</td>\n",
              "    </tr>\n",
              "  </tbody>\n",
              "</table>\n"
            ],
            "text/plain": [
              "<pandas.io.formats.style.Styler at 0x148a96c90>"
            ]
          },
          "execution_count": 51,
          "metadata": {},
          "output_type": "execute_result"
        }
      ],
      "source": [
        "from utils.data_loader import load_datasets\n",
        "datasets = load_datasets(data_dir)\n",
        "\n",
        "df = pd.DataFrame(columns=[ \"Experiment\", \"Chunk Count\", \"Average Chunk Size\", \"Average Ground Truth Count\",\"Average Relevancy per Ground Truth\"])\n",
        "for experiment_name, questions in datasets.items():\n",
        "    total_relevancy = 0\n",
        "    total_ground_truth_count = 0\n",
        "    for question in questions:\n",
        "        for chunk_relevancy in question[\"ground_truth_chunks\"].values():\n",
        "            total_relevancy += chunk_relevancy\n",
        "        total_ground_truth_count += len(question[\"ground_truth_chunks\"])\n",
        "    \n",
        "    average_ground_truth_count = total_ground_truth_count / len(questions)\n",
        "    average_relevancy_per_ground_truth = total_relevancy / total_ground_truth_count\n",
        "    average_chunk_size = round(sum([len(chunk.page_content) for chunk in split_chunks[experiment_name]]) / len(split_chunks[experiment_name]))\n",
        "    df.loc[len(df)] = [experiment_name, len(split_chunks[experiment_name]), average_chunk_size, average_ground_truth_count, average_relevancy_per_ground_truth]\n",
        "\n",
        "df.sort_values(by=\"Average Chunk Size\", ascending=False).style.hide(axis=\"index\")"
      ]
    },
    {
      "cell_type": "markdown",
      "metadata": {},
      "source": [
        "Average Total Ground Truth Token Size"
      ]
    },
    {
      "cell_type": "code",
      "execution_count": 8,
      "metadata": {},
      "outputs": [
        {
          "data": {
            "text/plain": [
              "3343"
            ]
          },
          "execution_count": 8,
          "metadata": {},
          "output_type": "execute_result"
        }
      ],
      "source": [
        "mean_ground_truth_token_count = 0\n",
        "for experiment_name, questions in datasets.items():\n",
        "    ground_character_token_count = 0\n",
        "    for question in questions:\n",
        "        for split_chunk in split_chunks[experiment_name]:\n",
        "            if str(split_chunk.metadata[\"id\"]) in question[\"ground_truth_chunks\"]:\n",
        "                ground_character_token_count += len(split_chunk.page_content)\n",
        "    mean_ground_truth_token_count += ground_character_token_count / (len(questions)*4) # *4 because on token is approximately 4 characters\n",
        "\n",
        "round(mean_ground_truth_token_count / len(datasets))"
      ]
    },
    {
      "cell_type": "markdown",
      "metadata": {},
      "source": [
        "# 6. - 7. Evaluation\n"
      ]
    },
    {
      "cell_type": "markdown",
      "metadata": {},
      "source": [
        "## Ingest Chunks into Vector Store\n",
        "\n",
        "Using FAISS\n"
      ]
    },
    {
      "cell_type": "code",
      "execution_count": 37,
      "metadata": {},
      "outputs": [
        {
          "name": "stdout",
          "output_type": "stream",
          "text": [
            "Indexing recursive-512-0\n",
            "Indexing markdown_header_parent\n",
            "Indexing fixed_size-512-200\n",
            "Indexing recursive-512-200\n",
            "Indexing markdown_header\n",
            "Indexing recursive-1024-200\n",
            "Indexing recursive-1024-0\n",
            "Indexing fixed_size-2048-200\n",
            "Indexing fixed_size-2048-0\n",
            "Indexing semantic_chunks_90\n",
            "Indexing fixed_size-512-0\n",
            "Indexing recursive-2048-200\n",
            "Indexing fixed_size-1024-0\n",
            "Indexing fixed_size-1024-200\n",
            "Indexing semantic_chunks_95\n",
            "Indexing recursive-2048-0\n"
          ]
        }
      ],
      "source": [
        "# from langchain_huggingface import HuggingFaceEmbeddings\n",
        "\n",
        "vector_stores: Dict[str, VectorStore] = {}\n",
        "\n",
        "# embeddings = HuggingFaceEmbeddings(\n",
        "#     model_name=\"Snowflake/snowflake-arctic-embed-l\",\n",
        "    # model_name=\"Alibaba-NLP/gte-large-en-v1.5\",\n",
        "#     model_kwargs={\"device\": 0, 'trust_remote_code': True},  # Comment out to use CPU\n",
        "# )\n",
        "embeddings = OpenAIEmbeddings(model=\"text-embedding-3-small\")\n",
        "\n",
        "model_name = (embeddings.model_name if hasattr(embeddings, 'model_name') else embeddings.model).replace(\"/\", \"_\")\n",
        "vector_store_dir = f\"{data_dir}vector_stores/{model_name}\"\n",
        "Path(vector_store_dir).mkdir(parents=True, exist_ok=True)\n",
        "for experiment_name, chunks in split_chunks.items():\n",
        "    if os.path.exists(f\"{vector_store_dir}/{experiment_name}\"):\n",
        "        print(\"Loading\", experiment_name)\n",
        "        vector_stores[experiment_name] = FAISS.load_local(f\"{vector_store_dir}/{experiment_name}\", embeddings, allow_dangerous_deserialization=True)\n",
        "    else:\n",
        "        print(\"Indexing\", experiment_name)\n",
        "        vector_stores[experiment_name] = FAISS.from_documents(chunks, embeddings)\n",
        "        vector_stores[experiment_name].save_local(f\"{vector_store_dir}/{experiment_name}\")"
      ]
    },
    {
      "cell_type": "markdown",
      "metadata": {},
      "source": [
        "## Evaluate Retrieval"
      ]
    },
    {
      "cell_type": "markdown",
      "metadata": {},
      "source": [
        "Select Evaluation Approach and load results if already exists"
      ]
    },
    {
      "cell_type": "code",
      "execution_count": 52,
      "metadata": {},
      "outputs": [],
      "source": [
        "class EvalApproach:\n",
        "    FIXED_K = \"Fixed-K\"\n",
        "    GROUND_TRUTH_K = \"Ground-Truth-K\"\n",
        "    TOKEN_LIMIT = \"Token-Limit\"\n",
        "    RATIO_K = \"Ratio-K\"\n",
        "\n",
        "SEL_APPROACH: EvalApproach = EvalApproach.RATIO_K\n",
        "FIXED_K = 20\n",
        "TOKEN_LIMIT = 3340\n",
        "RATIO_K = 0.1\n",
        "\n",
        "model_name = \"text-embedding-3-small\"\n",
        "eval_name = f\"{SEL_APPROACH}-{FIXED_K}-{model_name}\" if SEL_APPROACH == EvalApproach.FIXED_K else \"\"\n",
        "eval_name = f\"{SEL_APPROACH}-{model_name}\" if SEL_APPROACH == EvalApproach.GROUND_TRUTH_K else eval_name\n",
        "eval_name = f\"{SEL_APPROACH}-{TOKEN_LIMIT}-{model_name}\" if SEL_APPROACH == EvalApproach.TOKEN_LIMIT else eval_name\n",
        "eval_name = f\"{SEL_APPROACH}-{RATIO_K}-{model_name}\" if SEL_APPROACH == EvalApproach.RATIO_K else eval_name\n",
        "if os.path.exists(f\"{data_dir}results/{eval_name}.csv\"):\n",
        "    results = pd.read_csv(f\"{data_dir}results/{eval_name}.csv\")"
      ]
    },
    {
      "cell_type": "markdown",
      "metadata": {},
      "source": [
        "To generate new results run the following. It calculates the retrieval metrics for the loaded dataset."
      ]
    },
    {
      "cell_type": "code",
      "execution_count": 53,
      "metadata": {},
      "outputs": [],
      "source": [
        "from utils.data_loader import load_datasets\n",
        "datasets = load_datasets(data_dir)"
      ]
    },
    {
      "cell_type": "code",
      "execution_count": 54,
      "metadata": {},
      "outputs": [
        {
          "name": "stdout",
          "output_type": "stream",
          "text": [
            "Evaluating recursive-2048-0 with K = 7\n"
          ]
        },
        {
          "name": "stderr",
          "output_type": "stream",
          "text": [
            "100%|██████████| 24/24 [00:09<00:00,  2.49it/s]\n"
          ]
        },
        {
          "name": "stdout",
          "output_type": "stream",
          "text": [
            "Evaluating recursive-512-0 with K = 35\n"
          ]
        },
        {
          "name": "stderr",
          "output_type": "stream",
          "text": [
            "100%|██████████| 24/24 [00:08<00:00,  2.84it/s]\n"
          ]
        }
      ],
      "source": [
        "from utils.metrics import calculate_metrics, calculate_mean_metrics\n",
        "\n",
        "results_list = []\n",
        "for experiment_name, questions in datasets.items():\n",
        "    if experiment_name not in vector_stores:\n",
        "        continue\n",
        "\n",
        "    K = FIXED_K if SEL_APPROACH == EvalApproach.FIXED_K else 0\n",
        "    K = (\n",
        "        round(len(split_chunks[experiment_name]) * RATIO_K)\n",
        "        if SEL_APPROACH == EvalApproach.RATIO_K\n",
        "        else K\n",
        "    )\n",
        "    K = (\n",
        "        200 if SEL_APPROACH == EvalApproach.TOKEN_LIMIT else K\n",
        "    )  # large number to ensure TOKEN_LIMIT is always reached\n",
        "    print(\"Evaluating\", experiment_name, \"with K =\", K if K else \"Ground Truth based\")\n",
        "    metrics = []\n",
        "    for testset in tqdm(questions):\n",
        "        if testset[\"ground_truth_chunks\"] == {}:\n",
        "            continue\n",
        "        question = testset[\"question\"]\n",
        "        ground_truth = testset[\"ground_truth_chunks\"]\n",
        "        K = len(ground_truth) if SEL_APPROACH == EvalApproach.GROUND_TRUTH_K else K\n",
        "\n",
        "        retriever = vector_stores[experiment_name].as_retriever(search_kwargs={\"k\": K})\n",
        "        retrieved_chunks = retriever.invoke(question)\n",
        "\n",
        "        if SEL_APPROACH == EvalApproach.TOKEN_LIMIT:\n",
        "            # cap the number of retrieved chunks where sum of page_contents are below a fixed context window\n",
        "            retrieved_chunks_capped = []\n",
        "            total_context_length = 0\n",
        "            for chunk in retrieved_chunks:\n",
        "                total_context_length += len(chunk.page_content)\n",
        "                if (\n",
        "                    total_context_length > TOKEN_LIMIT * 4\n",
        "                ):  # as one token on average is approximately 4 characters\n",
        "                    break\n",
        "                retrieved_chunks_capped.append(chunk)\n",
        "\n",
        "            retrieved_chunks = retrieved_chunks_capped\n",
        "\n",
        "        retrieved_chunk_ids = [str(doc.metadata[\"id\"]) for doc in retrieved_chunks]\n",
        "        metrics.append(\n",
        "            calculate_metrics(\n",
        "                retrieved_chunk_ids,\n",
        "                ground_truth_chunks=list(ground_truth.keys()),\n",
        "                ground_truth_relevancies=list(ground_truth.values()),\n",
        "            )\n",
        "        )\n",
        "\n",
        "    mean_metrics = (\n",
        "        calculate_mean_metrics(metrics)\n",
        "        if len(metrics)\n",
        "        else {\n",
        "            \"precision\": 0.0,\n",
        "            \"recall\": 0.0,\n",
        "            \"map\": 0.0,\n",
        "            \"ndcg\": 0.0,\n",
        "        }\n",
        "    )\n",
        "\n",
        "    try:\n",
        "        experiment_chunk_size = int(experiment_name.split(\"-\")[-2])\n",
        "        experiment_chunk_overlap = int(experiment_name.split(\"-\")[-1])\n",
        "    except:\n",
        "        experiment_chunk_size = None\n",
        "        experiment_chunk_overlap = None\n",
        "\n",
        "    results_list.append(\n",
        "        [\n",
        "            experiment_name.split(\"-\")[0],\n",
        "            experiment_chunk_size,\n",
        "            experiment_chunk_overlap,\n",
        "            mean_metrics[\"precision\"],\n",
        "            mean_metrics[\"recall\"],\n",
        "            mean_metrics[\"map\"],\n",
        "            mean_metrics[\"ndcg\"],\n",
        "        ]\n",
        "    )\n",
        "\n",
        "results = pd.DataFrame(\n",
        "    results_list,\n",
        "    columns=[\n",
        "        eval_name,\n",
        "        \"Chunk Size\",\n",
        "        \"Chunk Overlap\",\n",
        "        \"Precision\",\n",
        "        \"Recall\",\n",
        "        \"MAP\",\n",
        "        \"NDCG\",\n",
        "    ],\n",
        ")\n",
        "results.to_csv(f\"{data_dir}results/{eval_name}.csv\", index=False)"
      ]
    },
    {
      "cell_type": "markdown",
      "metadata": {},
      "source": [
        "### Best Chunking Strategy"
      ]
    },
    {
      "cell_type": "code",
      "execution_count": 55,
      "metadata": {},
      "outputs": [
        {
          "data": {
            "text/html": [
              "<div>\n",
              "<style scoped>\n",
              "    .dataframe tbody tr th:only-of-type {\n",
              "        vertical-align: middle;\n",
              "    }\n",
              "\n",
              "    .dataframe tbody tr th {\n",
              "        vertical-align: top;\n",
              "    }\n",
              "\n",
              "    .dataframe thead th {\n",
              "        text-align: right;\n",
              "    }\n",
              "</style>\n",
              "<table border=\"1\" class=\"dataframe\">\n",
              "  <thead>\n",
              "    <tr style=\"text-align: right;\">\n",
              "      <th></th>\n",
              "      <th></th>\n",
              "      <th></th>\n",
              "      <th>Precision</th>\n",
              "      <th>Recall</th>\n",
              "      <th>NDCG</th>\n",
              "    </tr>\n",
              "    <tr>\n",
              "      <th>Ratio-K-0.1-text-embedding-3-small</th>\n",
              "      <th>Chunk Size</th>\n",
              "      <th>Chunk Overlap</th>\n",
              "      <th></th>\n",
              "      <th></th>\n",
              "      <th></th>\n",
              "    </tr>\n",
              "  </thead>\n",
              "  <tbody>\n",
              "    <tr>\n",
              "      <th rowspan=\"2\" valign=\"top\">recursive</th>\n",
              "      <th>2048</th>\n",
              "      <th>0</th>\n",
              "      <td>0.60119</td>\n",
              "      <td>0.892399</td>\n",
              "      <td>0.922509</td>\n",
              "    </tr>\n",
              "    <tr>\n",
              "      <th>512</th>\n",
              "      <th>0</th>\n",
              "      <td>0.62381</td>\n",
              "      <td>0.879043</td>\n",
              "      <td>0.885811</td>\n",
              "    </tr>\n",
              "  </tbody>\n",
              "</table>\n",
              "</div>"
            ],
            "text/plain": [
              "                                                             Precision  \\\n",
              "Ratio-K-0.1-text-embedding-3-small Chunk Size Chunk Overlap              \n",
              "recursive                          2048       0                0.60119   \n",
              "                                   512        0                0.62381   \n",
              "\n",
              "                                                               Recall  \\\n",
              "Ratio-K-0.1-text-embedding-3-small Chunk Size Chunk Overlap             \n",
              "recursive                          2048       0              0.892399   \n",
              "                                   512        0              0.879043   \n",
              "\n",
              "                                                                 NDCG  \n",
              "Ratio-K-0.1-text-embedding-3-small Chunk Size Chunk Overlap            \n",
              "recursive                          2048       0              0.922509  \n",
              "                                   512        0              0.885811  "
            ]
          },
          "execution_count": 55,
          "metadata": {},
          "output_type": "execute_result"
        }
      ],
      "source": [
        "results.drop(columns=[\"MAP\"]).groupby([eval_name, \"Chunk Size\", \"Chunk Overlap\"], dropna=False).mean().sort_values(by=\"Recall\", ascending=False)"
      ]
    },
    {
      "cell_type": "code",
      "execution_count": 13,
      "metadata": {},
      "outputs": [
        {
          "data": {
            "text/plain": [
              "0.799677814146692"
            ]
          },
          "execution_count": 13,
          "metadata": {},
          "output_type": "execute_result"
        }
      ],
      "source": [
        "# calculate F1 score\n",
        "results[\"F1\"] = 2 * (results[\"Precision\"] * results[\"Recall\"]) / (results[\"Precision\"] + results[\"Recall\"])\n",
        "results[\"F1\"].mean()"
      ]
    },
    {
      "cell_type": "markdown",
      "metadata": {},
      "source": [
        "### Best Chunk Size"
      ]
    },
    {
      "cell_type": "code",
      "execution_count": 14,
      "metadata": {},
      "outputs": [
        {
          "data": {
            "text/html": [
              "<div>\n",
              "<style scoped>\n",
              "    .dataframe tbody tr th:only-of-type {\n",
              "        vertical-align: middle;\n",
              "    }\n",
              "\n",
              "    .dataframe tbody tr th {\n",
              "        vertical-align: top;\n",
              "    }\n",
              "\n",
              "    .dataframe thead th {\n",
              "        text-align: right;\n",
              "    }\n",
              "</style>\n",
              "<table border=\"1\" class=\"dataframe\">\n",
              "  <thead>\n",
              "    <tr style=\"text-align: right;\">\n",
              "      <th></th>\n",
              "      <th>Precision</th>\n",
              "      <th>Recall</th>\n",
              "      <th>NDCG</th>\n",
              "      <th>F1</th>\n",
              "    </tr>\n",
              "    <tr>\n",
              "      <th>Chunk Size</th>\n",
              "      <th></th>\n",
              "      <th></th>\n",
              "      <th></th>\n",
              "      <th></th>\n",
              "    </tr>\n",
              "  </thead>\n",
              "  <tbody>\n",
              "    <tr>\n",
              "      <th>NaN</th>\n",
              "      <td>0.736786</td>\n",
              "      <td>0.850042</td>\n",
              "      <td>0.930779</td>\n",
              "      <td>0.788934</td>\n",
              "    </tr>\n",
              "    <tr>\n",
              "      <th>1024.0</th>\n",
              "      <td>0.774079</td>\n",
              "      <td>0.850020</td>\n",
              "      <td>0.937323</td>\n",
              "      <td>0.810204</td>\n",
              "    </tr>\n",
              "    <tr>\n",
              "      <th>2048.0</th>\n",
              "      <td>0.788988</td>\n",
              "      <td>0.844697</td>\n",
              "      <td>0.937812</td>\n",
              "      <td>0.815770</td>\n",
              "    </tr>\n",
              "    <tr>\n",
              "      <th>512.0</th>\n",
              "      <td>0.747055</td>\n",
              "      <td>0.824380</td>\n",
              "      <td>0.899859</td>\n",
              "      <td>0.783804</td>\n",
              "    </tr>\n",
              "  </tbody>\n",
              "</table>\n",
              "</div>"
            ],
            "text/plain": [
              "            Precision    Recall      NDCG        F1\n",
              "Chunk Size                                         \n",
              "NaN          0.736786  0.850042  0.930779  0.788934\n",
              "1024.0       0.774079  0.850020  0.937323  0.810204\n",
              "2048.0       0.788988  0.844697  0.937812  0.815770\n",
              "512.0        0.747055  0.824380  0.899859  0.783804"
            ]
          },
          "execution_count": 14,
          "metadata": {},
          "output_type": "execute_result"
        }
      ],
      "source": [
        "results.drop(columns=[eval_name, \"Chunk Overlap\", \"MAP\"]).groupby(\"Chunk Size\", dropna=False).mean().sort_values(by=\"Recall\", ascending=False)"
      ]
    },
    {
      "cell_type": "markdown",
      "metadata": {},
      "source": [
        "### Best Overlap"
      ]
    },
    {
      "cell_type": "code",
      "execution_count": 15,
      "metadata": {},
      "outputs": [
        {
          "data": {
            "text/html": [
              "<div>\n",
              "<style scoped>\n",
              "    .dataframe tbody tr th:only-of-type {\n",
              "        vertical-align: middle;\n",
              "    }\n",
              "\n",
              "    .dataframe tbody tr th {\n",
              "        vertical-align: top;\n",
              "    }\n",
              "\n",
              "    .dataframe thead th {\n",
              "        text-align: right;\n",
              "    }\n",
              "</style>\n",
              "<table border=\"1\" class=\"dataframe\">\n",
              "  <thead>\n",
              "    <tr style=\"text-align: right;\">\n",
              "      <th></th>\n",
              "      <th>Precision</th>\n",
              "      <th>Recall</th>\n",
              "      <th>NDCG</th>\n",
              "      <th>F1</th>\n",
              "    </tr>\n",
              "    <tr>\n",
              "      <th>Chunk Overlap</th>\n",
              "      <th></th>\n",
              "      <th></th>\n",
              "      <th></th>\n",
              "      <th></th>\n",
              "    </tr>\n",
              "  </thead>\n",
              "  <tbody>\n",
              "    <tr>\n",
              "      <th>0.0</th>\n",
              "      <td>0.763958</td>\n",
              "      <td>0.844961</td>\n",
              "      <td>0.922739</td>\n",
              "      <td>0.802406</td>\n",
              "    </tr>\n",
              "    <tr>\n",
              "      <th>200.0</th>\n",
              "      <td>0.773269</td>\n",
              "      <td>0.838680</td>\n",
              "      <td>0.918079</td>\n",
              "      <td>0.804549</td>\n",
              "    </tr>\n",
              "  </tbody>\n",
              "</table>\n",
              "</div>"
            ],
            "text/plain": [
              "               Precision    Recall      NDCG        F1\n",
              "Chunk Overlap                                         \n",
              "0.0             0.763958  0.844961  0.922739  0.802406\n",
              "200.0           0.773269  0.838680  0.918079  0.804549"
            ]
          },
          "execution_count": 15,
          "metadata": {},
          "output_type": "execute_result"
        }
      ],
      "source": [
        "results.where(results[eval_name] == \"recursive\").drop(columns=[eval_name, \"Chunk Size\", \"MAP\"]).groupby(\"Chunk Overlap\").mean().sort_values(by=\"NDCG\", ascending=False)"
      ]
    },
    {
      "cell_type": "markdown",
      "metadata": {},
      "source": [
        "## Evaluate Generation (TODO)"
      ]
    },
    {
      "cell_type": "code",
      "execution_count": null,
      "metadata": {},
      "outputs": [],
      "source": [
        "\n",
        "nest_asyncio.apply()\n",
        "\n",
        "answer_correctness_system_prompt = \"\"\"You are a CORRECTNESS grader; providing the correctness of the given GENERATED ANSWER compared to the given GROUND TRUTH ANSWER.\n",
        "Respond only as a number from 0 to 10 where 0 is the least correct and 10 is the most correct.\n",
        "\n",
        "A few additional scoring guidelines:\n",
        "\n",
        "- Long GENERATED ANSWERS should score equally well as short GENERATED ANSWERS.\n",
        "\n",
        "- CORRECTNESS score should increase as the GENERATED ANSWER matches more accurately with the GROUND TRUTH ANSWER.\n",
        "\n",
        "- CORRECTNESS score should increase as the GENERATED ANSWER covers more parts of the GROUND TRUTH ANSWER accurately.\n",
        "\n",
        "- GENERATED ANSWERS that partially match the GROUND TRUTH ANSWER should score 2, 3, or 4. Higher scores indicate more correctness.\n",
        "\n",
        "- GENERATED ANSWERS that mostly match the GROUND TRUTH ANSWER should get a score of 5, 6, 7, or 8. Higher scores indicate more correctness.\n",
        "\n",
        "- GENERATED ANSWERS that fully match the GROUND TRUTH ANSWER should get a score of 9 or 10. Higher scores indicate more correctness.\n",
        "\n",
        "- GENERATED ANSWERS must be fully accurate and comprehensive to the GROUND TRUTH ANSWER to get a score of 10.\n",
        "\n",
        "- Never elaborate.\"\"\"\n",
        "\n",
        "answer_correctness_user_prompt = PromptTemplate.from_template(\n",
        "    \"\"\"GROUND TRUTH ANSWER: {ground_truth_answer}\n",
        "\n",
        "GENERATED ANSWER: {generated_answer}\n",
        "\n",
        "CORRECTNESS: \"\"\"\n",
        ")\n",
        "\n",
        "prompt = hub.pull(\"rlm/rag-prompt\")\n",
        "generator_llm = ChatOpenAI(model=\"gpt-4o-mini\", temperature=0)\n",
        "def format_docs(docs):\n",
        "    return \"\\n\\n\".join(doc.page_content for doc in docs)\n",
        "        \n",
        "for experiment_name, questions in datasets.items():\n",
        "    print(\"Evaluating\", experiment_name)\n",
        "    vector_stores[experiment_name].embeddings.show_progress_bar = False\n",
        "    retriever = vector_stores[experiment_name].as_retriever(search_kwargs={\"k\": 10})\n",
        "    rag_chain = (\n",
        "        {\"context\": retriever | format_docs, \"question\": RunnablePassthrough()}\n",
        "        | prompt\n",
        "        | generator_llm\n",
        "        | StrOutputParser()\n",
        "    )\n",
        "    for question_type, datasets in questions.items():\n",
        "        mean_answer_correctness = 0\n",
        "        for testset in datasets:\n",
        "            response = rag_chain.invoke(testset[\"question\"])\n",
        "            answer_correctness_prompt = answer_correctness_user_prompt.format(\n",
        "                ground_truth_answer=testset[\"ground_truth_answer\"], generated_answer=response\n",
        "            )\n",
        "\n",
        "            llm_messages = [\n",
        "                SystemMessage(content=answer_correctness_system_prompt),\n",
        "                HumanMessage(content=answer_correctness_prompt),\n",
        "            ]\n",
        "            response = make_request_with_backoff(llm_messages)\n",
        "\n",
        "            answer_correctness = re_0_10_rating(response.content)\n",
        "            mean_answer_correctness += answer_correctness\n",
        "        mean_answer_correctness /= len(datasets)\n",
        "        print(f\"Experiment: {experiment_name} Question Type: {question_type} Mean Answer Correctness: {mean_answer_correctness}\")"
      ]
    }
  ],
  "metadata": {
    "kernelspec": {
      "display_name": "venv",
      "language": "python",
      "name": "python3"
    },
    "language_info": {
      "codemirror_mode": {
        "name": "ipython",
        "version": 3
      },
      "file_extension": ".py",
      "mimetype": "text/x-python",
      "name": "python",
      "nbconvert_exporter": "python",
      "pygments_lexer": "ipython3",
      "version": "3.12.4"
    },
    "orig_nbformat": 4
  },
  "nbformat": 4,
  "nbformat_minor": 2
}
